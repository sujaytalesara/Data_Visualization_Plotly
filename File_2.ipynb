{
 "cells": [
  {
   "cell_type": "code",
   "execution_count": 68,
   "metadata": {},
   "outputs": [],
   "source": [
    "import pandas as pd\n",
    "import matplotlib.pyplot as matplot\n",
    "import plotly.offline as plt\n",
    "import plotly.graph_objs as go"
   ]
  },
  {
   "cell_type": "code",
   "execution_count": 69,
   "metadata": {},
   "outputs": [],
   "source": [
    "df_main = pd.read_csv(\"Dataset\\German_Credit_Data_With_Target.csv\", index_col = 0)"
   ]
  },
  {
   "cell_type": "code",
   "execution_count": 70,
   "metadata": {},
   "outputs": [
    {
     "data": {
      "text/html": [
       "<div>\n",
       "<style scoped>\n",
       "    .dataframe tbody tr th:only-of-type {\n",
       "        vertical-align: middle;\n",
       "    }\n",
       "\n",
       "    .dataframe tbody tr th {\n",
       "        vertical-align: top;\n",
       "    }\n",
       "\n",
       "    .dataframe thead th {\n",
       "        text-align: right;\n",
       "    }\n",
       "</style>\n",
       "<table border=\"1\" class=\"dataframe\">\n",
       "  <thead>\n",
       "    <tr style=\"text-align: right;\">\n",
       "      <th></th>\n",
       "      <th>Age</th>\n",
       "      <th>Sex</th>\n",
       "      <th>Job</th>\n",
       "      <th>Housing</th>\n",
       "      <th>Saving_accounts</th>\n",
       "      <th>Checking_account</th>\n",
       "      <th>Credit_amount</th>\n",
       "      <th>Duration</th>\n",
       "      <th>Purpose</th>\n",
       "      <th>Risk</th>\n",
       "    </tr>\n",
       "  </thead>\n",
       "  <tbody>\n",
       "    <tr>\n",
       "      <td>0</td>\n",
       "      <td>67</td>\n",
       "      <td>male</td>\n",
       "      <td>2</td>\n",
       "      <td>own</td>\n",
       "      <td>NaN</td>\n",
       "      <td>little</td>\n",
       "      <td>1169</td>\n",
       "      <td>6</td>\n",
       "      <td>radio/TV</td>\n",
       "      <td>good</td>\n",
       "    </tr>\n",
       "    <tr>\n",
       "      <td>1</td>\n",
       "      <td>22</td>\n",
       "      <td>female</td>\n",
       "      <td>2</td>\n",
       "      <td>own</td>\n",
       "      <td>little</td>\n",
       "      <td>moderate</td>\n",
       "      <td>5951</td>\n",
       "      <td>48</td>\n",
       "      <td>radio/TV</td>\n",
       "      <td>bad</td>\n",
       "    </tr>\n",
       "    <tr>\n",
       "      <td>2</td>\n",
       "      <td>49</td>\n",
       "      <td>male</td>\n",
       "      <td>1</td>\n",
       "      <td>own</td>\n",
       "      <td>little</td>\n",
       "      <td>NaN</td>\n",
       "      <td>2096</td>\n",
       "      <td>12</td>\n",
       "      <td>education</td>\n",
       "      <td>good</td>\n",
       "    </tr>\n",
       "    <tr>\n",
       "      <td>3</td>\n",
       "      <td>45</td>\n",
       "      <td>male</td>\n",
       "      <td>2</td>\n",
       "      <td>free</td>\n",
       "      <td>little</td>\n",
       "      <td>little</td>\n",
       "      <td>7882</td>\n",
       "      <td>42</td>\n",
       "      <td>furniture/equipment</td>\n",
       "      <td>good</td>\n",
       "    </tr>\n",
       "    <tr>\n",
       "      <td>4</td>\n",
       "      <td>53</td>\n",
       "      <td>male</td>\n",
       "      <td>2</td>\n",
       "      <td>free</td>\n",
       "      <td>little</td>\n",
       "      <td>little</td>\n",
       "      <td>4870</td>\n",
       "      <td>24</td>\n",
       "      <td>car</td>\n",
       "      <td>bad</td>\n",
       "    </tr>\n",
       "  </tbody>\n",
       "</table>\n",
       "</div>"
      ],
      "text/plain": [
       "   Age     Sex  Job Housing Saving_accounts Checking_account  Credit_amount  \\\n",
       "0   67    male    2     own             NaN           little           1169   \n",
       "1   22  female    2     own          little         moderate           5951   \n",
       "2   49    male    1     own          little              NaN           2096   \n",
       "3   45    male    2    free          little           little           7882   \n",
       "4   53    male    2    free          little           little           4870   \n",
       "\n",
       "   Duration              Purpose  Risk  \n",
       "0         6             radio/TV  good  \n",
       "1        48             radio/TV   bad  \n",
       "2        12            education  good  \n",
       "3        42  furniture/equipment  good  \n",
       "4        24                  car   bad  "
      ]
     },
     "execution_count": 70,
     "metadata": {},
     "output_type": "execute_result"
    }
   ],
   "source": [
    " df_main.head()"
   ]
  },
  {
   "cell_type": "markdown",
   "metadata": {},
   "source": [
    "### Bubble chart"
   ]
  },
  {
   "cell_type": "code",
   "execution_count": 72,
   "metadata": {},
   "outputs": [],
   "source": [
    "data = [go.Scatter(\n",
    "        x = df_main['Age'],\n",
    "        y = df_main['Duration'],\n",
    "        text = df_main['Housing'],\n",
    "    mode = 'markers',\n",
    "    marker = dict(size = (df_main['Credit_amount'] / 750))\n",
    "\n",
    ")]\n",
    "\n",
    "\n",
    "layo = go.Layout(\n",
    "    title = 'Bubble chart -- Age by Duration',\n",
    "    xaxis = dict(title = 'Age'),\n",
    "    yaxis = dict(title = 'Duration'),\n",
    "    hovermode = 'closest'\n",
    ")\n",
    "\n"
   ]
  },
  {
   "cell_type": "markdown",
   "metadata": {},
   "source": [
    "### Customized Bubble Chart ( with conditioning)"
   ]
  },
  {
   "cell_type": "code",
   "execution_count": 77,
   "metadata": {},
   "outputs": [],
   "source": [
    "trace0 = go.Scatter(\n",
    "    x = df_main['Age'][df_main['Risk'] == 'good'],\n",
    "    y = df_main['Duration'][df_main['Risk'] == 'good'],\n",
    "    text = 'Good',\n",
    "    mode = 'markers',\n",
    "    marker = dict(size = df_main['Credit_amount'][df_main['Risk'] == 'good'] / 750)\n",
    "\n",
    ")\n",
    "\n",
    "\n",
    "trace1 = go.Scatter(\n",
    "    x = df_main['Age'][df_main['Risk'] == 'bad'],\n",
    "    y = df_main['Duration'][df_main['Risk'] == 'bad'],\n",
    "    text = 'Bad',\n",
    "    mode = 'markers',\n",
    "    marker = dict(size = df_main['Credit_amount'][df_main['Risk'] == 'bad'] /750)\n",
    "\n",
    ")\n",
    "\n",
    "data = [trace0 , trace1]\n",
    "\n",
    "layout = go.Layout(\n",
    "    title = ('Bubble chart -- Age by Duration'),\n",
    "    xaxis = dict(title = 'Age'),\n",
    "    yaxis = dict(title = 'Duration'),\n",
    "    hovermode = 'closest'\n",
    ")\n",
    "\n",
    "fig = go.Figure(data = data)\n",
    "plt.plot(fig)"
   ]
  },
  {
   "cell_type": "markdown",
   "metadata": {},
   "source": [
    "### Simple Histogram"
   ]
  },
  {
   "cell_type": "code",
   "execution_count": 85,
   "metadata": {},
   "outputs": [
    {
     "data": {
      "text/plain": [
       "'temp-plot.html'"
      ]
     },
     "execution_count": 85,
     "metadata": {},
     "output_type": "execute_result"
    }
   ],
   "source": [
    "data = [go.Histogram(\n",
    "    x = df_main.Age,\n",
    "    name = 'Age',\n",
    "    opacity = 0.5\n",
    ")]\n",
    "\n",
    "layout = go.Layout(\n",
    "    title = ('Distribution of Age'),\n",
    "    xaxis = dict(title = 'Age in Years'),\n",
    "    yaxis = dict(title = 'Frequency')\n",
    ")\n",
    "\n",
    "fig = go.Figure(data = data , layout = layout)\n",
    "plt.plot(fig)"
   ]
  },
  {
   "cell_type": "markdown",
   "metadata": {},
   "source": [
    "### Histogram - "
   ]
  },
  {
   "cell_type": "code",
   "execution_count": 92,
   "metadata": {},
   "outputs": [
    {
     "data": {
      "text/plain": [
       "'temp-plot.html'"
      ]
     },
     "execution_count": 92,
     "metadata": {},
     "output_type": "execute_result"
    }
   ],
   "source": [
    "trace0 = go.Histogram(\n",
    "    x = df_main['Age'][df_main['Risk'] == 'good'],\n",
    "    name = 'Age of Good Cust',\n",
    "    opacity = 0.5\n",
    ")\n",
    "\n",
    "trace1 = go.Histogram(\n",
    "    x = df_main['Age'][df_main['Risk'] == 'bad'],\n",
    "    name = 'Age of Bad Cust',\n",
    "    opacity = 0.5\n",
    ")\n",
    "\n",
    "data = [trace0, trace1]\n",
    "\n",
    "layout = go.Layout(\n",
    "    title = ('Distribution of Age by Risk Grades'),\n",
    "    xaxis = dict(title = 'Age in Years'),\n",
    "    yaxis = dict(title = 'Frequency')\n",
    ")\n",
    "\n",
    "fig = go.Figure(data = data , layout = layout)\n",
    "plt.plot(fig)"
   ]
  },
  {
   "cell_type": "code",
   "execution_count": null,
   "metadata": {},
   "outputs": [],
   "source": []
  }
 ],
 "metadata": {
  "kernelspec": {
   "display_name": "Python 3",
   "language": "python",
   "name": "python3"
  },
  "language_info": {
   "codemirror_mode": {
    "name": "ipython",
    "version": 3
   },
   "file_extension": ".py",
   "mimetype": "text/x-python",
   "name": "python",
   "nbconvert_exporter": "python",
   "pygments_lexer": "ipython3",
   "version": "3.7.4"
  }
 },
 "nbformat": 4,
 "nbformat_minor": 2
}
